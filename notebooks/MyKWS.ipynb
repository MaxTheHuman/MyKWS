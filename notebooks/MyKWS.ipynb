{
  "nbformat": 4,
  "nbformat_minor": 0,
  "metadata": {
    "kernelspec": {
      "display_name": "Python 3",
      "language": "python",
      "name": "python3"
    },
    "language_info": {
      "codemirror_mode": {
        "name": "ipython",
        "version": 3
      },
      "file_extension": ".py",
      "mimetype": "text/x-python",
      "name": "python",
      "nbconvert_exporter": "python",
      "pygments_lexer": "ipython3",
      "version": "3.7.7"
    },
    "colab": {
      "name": "MyKWS.ipynb",
      "provenance": [],
      "collapsed_sections": [],
      "toc_visible": true
    },
    "accelerator": "GPU"
  },
  "cells": [
    {
      "cell_type": "markdown",
      "metadata": {
        "id": "8GrhIXQQwDs1"
      },
      "source": [
        "# Homework №3"
      ]
    },
    {
      "cell_type": "markdown",
      "metadata": {
        "id": "j8BwmDqbwDs2"
      },
      "source": [
        "This homework will be dedicated to Keyword Spotting (KWS), streaming and speedup NN."
      ]
    },
    {
      "cell_type": "markdown",
      "metadata": {
        "id": "QAopZih40bAX"
      },
      "source": [
        "# Setup dependencies\n",
        "\n"
      ]
    },
    {
      "cell_type": "code",
      "metadata": {
        "id": "m5icSVnl-lyp",
        "outputId": "addb1a20-7e27-4e7f-e707-2e131cb5da9e",
        "colab": {
          "base_uri": "https://localhost:8080/"
        }
      },
      "source": [
        "!pip install torch"
      ],
      "execution_count": null,
      "outputs": [
        {
          "output_type": "stream",
          "text": [
            "Requirement already satisfied: torch in /usr/local/lib/python3.6/dist-packages (1.6.0+cu101)\n",
            "Requirement already satisfied: numpy in /usr/local/lib/python3.6/dist-packages (from torch) (1.18.5)\n",
            "Requirement already satisfied: future in /usr/local/lib/python3.6/dist-packages (from torch) (0.16.0)\n"
          ],
          "name": "stdout"
        }
      ]
    },
    {
      "cell_type": "code",
      "metadata": {
        "id": "oE3W6vwNxpDd",
        "outputId": "cd1ddc3c-304f-4faf-c97a-ea04380ec0bf",
        "colab": {
          "base_uri": "https://localhost:8080/"
        }
      },
      "source": [
        "!pip install torchaudio==0.6.0"
      ],
      "execution_count": null,
      "outputs": [
        {
          "output_type": "stream",
          "text": [
            "Collecting torchaudio==0.6.0\n",
            "\u001b[?25l  Downloading https://files.pythonhosted.org/packages/96/34/c651430dea231e382ddf2eb5773239bf4885d9528f640a4ef39b12894cb8/torchaudio-0.6.0-cp36-cp36m-manylinux1_x86_64.whl (6.7MB)\n",
            "\u001b[K     |████████████████████████████████| 6.7MB 9.8MB/s \n",
            "\u001b[?25hRequirement already satisfied: torch==1.6.0 in /usr/local/lib/python3.6/dist-packages (from torchaudio==0.6.0) (1.6.0+cu101)\n",
            "Requirement already satisfied: future in /usr/local/lib/python3.6/dist-packages (from torch==1.6.0->torchaudio==0.6.0) (0.16.0)\n",
            "Requirement already satisfied: numpy in /usr/local/lib/python3.6/dist-packages (from torch==1.6.0->torchaudio==0.6.0) (1.18.5)\n",
            "Installing collected packages: torchaudio\n",
            "Successfully installed torchaudio-0.6.0\n"
          ],
          "name": "stdout"
        }
      ]
    },
    {
      "cell_type": "code",
      "metadata": {
        "id": "HSELnGZxyJTw",
        "outputId": "de522233-bbe4-4e50-e1f9-4c302b124c8e",
        "colab": {
          "base_uri": "https://localhost:8080/"
        }
      },
      "source": [
        "!pip install wandb"
      ],
      "execution_count": null,
      "outputs": [
        {
          "output_type": "stream",
          "text": [
            "Collecting wandb\n",
            "\u001b[?25l  Downloading https://files.pythonhosted.org/packages/21/64/b28bf154ef1ee5b1e1978816e80d54f462a3e22e7c67cfdbf7ebada5abfe/wandb-0.10.8-py2.py3-none-any.whl (1.7MB)\n",
            "\u001b[K     |████████████████████████████████| 1.7MB 11.3MB/s \n",
            "\u001b[?25hCollecting GitPython>=1.0.0\n",
            "\u001b[?25l  Downloading https://files.pythonhosted.org/packages/24/d1/a7f8fe3df258549b303415157328bfcc63e9b11d06a7ad7a3327f3d32606/GitPython-3.1.11-py3-none-any.whl (159kB)\n",
            "\u001b[K     |████████████████████████████████| 163kB 51.2MB/s \n",
            "\u001b[?25hCollecting sentry-sdk>=0.4.0\n",
            "\u001b[?25l  Downloading https://files.pythonhosted.org/packages/fc/f0/188b8321988c739ab79577269c169d0d5f36aeb7172c17cd45eb0917823d/sentry_sdk-0.19.1-py2.py3-none-any.whl (120kB)\n",
            "\u001b[K     |████████████████████████████████| 122kB 51.8MB/s \n",
            "\u001b[?25hCollecting configparser>=3.8.1\n",
            "  Downloading https://files.pythonhosted.org/packages/08/b2/ef713e0e67f6e7ec7d59aea3ee78d05b39c15930057e724cc6d362a8c3bb/configparser-5.0.1-py3-none-any.whl\n",
            "Requirement already satisfied: requests<3,>=2.0.0 in /usr/local/lib/python3.6/dist-packages (from wandb) (2.23.0)\n",
            "Requirement already satisfied: promise<3,>=2.0 in /usr/local/lib/python3.6/dist-packages (from wandb) (2.3)\n",
            "Requirement already satisfied: six>=1.13.0 in /usr/local/lib/python3.6/dist-packages (from wandb) (1.15.0)\n",
            "Requirement already satisfied: PyYAML in /usr/local/lib/python3.6/dist-packages (from wandb) (3.13)\n",
            "Requirement already satisfied: Click>=7.0 in /usr/local/lib/python3.6/dist-packages (from wandb) (7.1.2)\n",
            "Collecting watchdog>=0.8.3\n",
            "\u001b[?25l  Downloading https://files.pythonhosted.org/packages/0e/06/121302598a4fc01aca942d937f4a2c33430b7181137b35758913a8db10ad/watchdog-0.10.3.tar.gz (94kB)\n",
            "\u001b[K     |████████████████████████████████| 102kB 14.8MB/s \n",
            "\u001b[?25hRequirement already satisfied: python-dateutil>=2.6.1 in /usr/local/lib/python3.6/dist-packages (from wandb) (2.8.1)\n",
            "Collecting subprocess32>=3.5.3\n",
            "\u001b[?25l  Downloading https://files.pythonhosted.org/packages/32/c8/564be4d12629b912ea431f1a50eb8b3b9d00f1a0b1ceff17f266be190007/subprocess32-3.5.4.tar.gz (97kB)\n",
            "\u001b[K     |████████████████████████████████| 102kB 13.9MB/s \n",
            "\u001b[?25hCollecting docker-pycreds>=0.4.0\n",
            "  Downloading https://files.pythonhosted.org/packages/f5/e8/f6bd1eee09314e7e6dee49cbe2c5e22314ccdb38db16c9fc72d2fa80d054/docker_pycreds-0.4.0-py2.py3-none-any.whl\n",
            "Requirement already satisfied: protobuf>=3.12.0 in /usr/local/lib/python3.6/dist-packages (from wandb) (3.12.4)\n",
            "Collecting shortuuid>=0.5.0\n",
            "  Downloading https://files.pythonhosted.org/packages/25/a6/2ecc1daa6a304e7f1b216f0896b26156b78e7c38e1211e9b798b4716c53d/shortuuid-1.0.1-py3-none-any.whl\n",
            "Requirement already satisfied: psutil>=5.0.0 in /usr/local/lib/python3.6/dist-packages (from wandb) (5.4.8)\n",
            "Collecting gitdb<5,>=4.0.1\n",
            "\u001b[?25l  Downloading https://files.pythonhosted.org/packages/48/11/d1800bca0a3bae820b84b7d813ad1eff15a48a64caea9c823fc8c1b119e8/gitdb-4.0.5-py3-none-any.whl (63kB)\n",
            "\u001b[K     |████████████████████████████████| 71kB 11.8MB/s \n",
            "\u001b[?25hRequirement already satisfied: certifi in /usr/local/lib/python3.6/dist-packages (from sentry-sdk>=0.4.0->wandb) (2020.6.20)\n",
            "Requirement already satisfied: urllib3>=1.10.0 in /usr/local/lib/python3.6/dist-packages (from sentry-sdk>=0.4.0->wandb) (1.24.3)\n",
            "Requirement already satisfied: chardet<4,>=3.0.2 in /usr/local/lib/python3.6/dist-packages (from requests<3,>=2.0.0->wandb) (3.0.4)\n",
            "Requirement already satisfied: idna<3,>=2.5 in /usr/local/lib/python3.6/dist-packages (from requests<3,>=2.0.0->wandb) (2.10)\n",
            "Collecting pathtools>=0.1.1\n",
            "  Downloading https://files.pythonhosted.org/packages/e7/7f/470d6fcdf23f9f3518f6b0b76be9df16dcc8630ad409947f8be2eb0ed13a/pathtools-0.1.2.tar.gz\n",
            "Requirement already satisfied: setuptools in /usr/local/lib/python3.6/dist-packages (from protobuf>=3.12.0->wandb) (50.3.2)\n",
            "Collecting smmap<4,>=3.0.1\n",
            "  Downloading https://files.pythonhosted.org/packages/b0/9a/4d409a6234eb940e6a78dfdfc66156e7522262f5f2fecca07dc55915952d/smmap-3.0.4-py2.py3-none-any.whl\n",
            "Building wheels for collected packages: watchdog, subprocess32, pathtools\n",
            "  Building wheel for watchdog (setup.py) ... \u001b[?25l\u001b[?25hdone\n",
            "  Created wheel for watchdog: filename=watchdog-0.10.3-cp36-none-any.whl size=73873 sha256=2fa85bfe111f4b542c92cc9934a6d0f6a149882453703fed43aabba15b2c143d\n",
            "  Stored in directory: /root/.cache/pip/wheels/a8/1d/38/2c19bb311f67cc7b4d07a2ec5ea36ab1a0a0ea50db994a5bc7\n",
            "  Building wheel for subprocess32 (setup.py) ... \u001b[?25l\u001b[?25hdone\n",
            "  Created wheel for subprocess32: filename=subprocess32-3.5.4-cp36-none-any.whl size=6489 sha256=2cbcda7b5df43e1bc7a9590ca2312ef8e4a35e843640ee8192e183a03b042546\n",
            "  Stored in directory: /root/.cache/pip/wheels/68/39/1a/5e402bdfdf004af1786c8b853fd92f8c4a04f22aad179654d1\n",
            "  Building wheel for pathtools (setup.py) ... \u001b[?25l\u001b[?25hdone\n",
            "  Created wheel for pathtools: filename=pathtools-0.1.2-cp36-none-any.whl size=8785 sha256=52c99545f7f4f9c1fd3e87d9271585234f9d25d802d98aefb0bd8ac16076e1dc\n",
            "  Stored in directory: /root/.cache/pip/wheels/0b/04/79/c3b0c3a0266a3cb4376da31e5bfe8bba0c489246968a68e843\n",
            "Successfully built watchdog subprocess32 pathtools\n",
            "Installing collected packages: smmap, gitdb, GitPython, sentry-sdk, configparser, pathtools, watchdog, subprocess32, docker-pycreds, shortuuid, wandb\n",
            "Successfully installed GitPython-3.1.11 configparser-5.0.1 docker-pycreds-0.4.0 gitdb-4.0.5 pathtools-0.1.2 sentry-sdk-0.19.1 shortuuid-1.0.1 smmap-3.0.4 subprocess32-3.5.4 wandb-0.10.8 watchdog-0.10.3\n"
          ],
          "name": "stdout"
        }
      ]
    },
    {
      "cell_type": "code",
      "metadata": {
        "id": "dM5CWCeAyMGj"
      },
      "source": [
        "import torch\n",
        "import torchaudio\n",
        "import pandas as pd\n",
        "# import multiprocessing as mp\n",
        "from torch import nn\n",
        "from matplotlib import pyplot as plt\n",
        "from torch.utils.data import Dataset, DataLoader, random_split\n",
        "# from google.colab import files\n",
        "\n",
        "# %pylab inline\n",
        "# from itertools import islice\n",
        "# from scipy.signal import hann\n",
        "# from scipy.io import wavfile\n"
      ],
      "execution_count": null,
      "outputs": []
    },
    {
      "cell_type": "code",
      "metadata": {
        "id": "MUiyr8V2yn_f",
        "outputId": "c25d738f-9215-4578-8265-64883d2f7321",
        "colab": {
          "base_uri": "https://localhost:8080/",
          "height": 623
        }
      },
      "source": [
        "import wandb\n",
        "!wandb login 32f7df3c332802b239b3a621db53985fe17d319e\n",
        "wandb.init(project=\"kws-implementation\")"
      ],
      "execution_count": null,
      "outputs": [
        {
          "output_type": "stream",
          "text": [
            "\u001b[34m\u001b[1mwandb\u001b[0m: Appending key for api.wandb.ai to your netrc file: /root/.netrc\n"
          ],
          "name": "stdout"
        },
        {
          "output_type": "stream",
          "text": [
            "\u001b[34m\u001b[1mwandb\u001b[0m: Currently logged in as: \u001b[33mmaxthehuman\u001b[0m (use `wandb login --relogin` to force relogin)\n"
          ],
          "name": "stderr"
        },
        {
          "output_type": "display_data",
          "data": {
            "text/html": [
              "\n",
              "                Tracking run with wandb version 0.10.8<br/>\n",
              "                Syncing run <strong style=\"color:#cdcd00\">winter-paper-18</strong> to <a href=\"https://wandb.ai\" target=\"_blank\">Weights & Biases</a> <a href=\"https://docs.wandb.com/integrations/jupyter.html\" target=\"_blank\">(Documentation)</a>.<br/>\n",
              "                Project page: <a href=\"https://wandb.ai/maxthehuman/kws-implementation\" target=\"_blank\">https://wandb.ai/maxthehuman/kws-implementation</a><br/>\n",
              "                Run page: <a href=\"https://wandb.ai/maxthehuman/kws-implementation/runs/nyt166rn\" target=\"_blank\">https://wandb.ai/maxthehuman/kws-implementation/runs/nyt166rn</a><br/>\n",
              "                Run data is saved locally in <code>wandb/run-20201102_095702-nyt166rn</code><br/><br/>\n",
              "            "
            ],
            "text/plain": [
              "<IPython.core.display.HTML object>"
            ]
          },
          "metadata": {
            "tags": []
          }
        },
        {
          "output_type": "execute_result",
          "data": {
            "text/plain": [
              "<wandb.sdk.wandb_run.Run at 0x7f7e791e00f0>"
            ],
            "text/html": [
              "<h1>Run(nyt166rn)</h1><p></p><iframe src=\"https://wandb.ai/maxthehuman/kws-implementation/runs/nyt166rn\" style=\"border:none;width:100%;height:400px\"></iframe>"
            ]
          },
          "metadata": {
            "tags": []
          },
          "execution_count": 5
        }
      ]
    },
    {
      "cell_type": "markdown",
      "metadata": {
        "id": "WtYqBlJfYCey"
      },
      "source": [
        "# Config"
      ]
    },
    {
      "cell_type": "code",
      "metadata": {
        "id": "fZsgoRHlyoLH",
        "outputId": "09a3dc0d-c14d-43e8-c157-fc8fab58eeb0",
        "colab": {
          "base_uri": "https://localhost:8080/"
        }
      },
      "source": [
        "use_cuda = torch.cuda.is_available()\n",
        "torch.manual_seed(7)\n",
        "device = torch.device(\"cuda\" if use_cuda else \"cpu\")\n",
        "print(device)\n",
        "# mp.set_start_method('fork', True)\n",
        "# mp.set_start_method('spawn', True)"
      ],
      "execution_count": null,
      "outputs": [
        {
          "output_type": "stream",
          "text": [
            "cuda\n"
          ],
          "name": "stdout"
        }
      ]
    },
    {
      "cell_type": "code",
      "metadata": {
        "id": "QsAlUtrtyoQi"
      },
      "source": [
        "batch_size = 32\n",
        "epochs = 200\n",
        "n_mels = 40\n",
        "\n",
        "freq_mask_param = 15\n",
        "time_mask_param = 10\n"
      ],
      "execution_count": null,
      "outputs": []
    },
    {
      "cell_type": "markdown",
      "metadata": {
        "id": "RLP2EEZOwDs3"
      },
      "source": [
        "# Data"
      ]
    },
    {
      "cell_type": "code",
      "metadata": {
        "id": "D-CbnBaCwDs4",
        "outputId": "391b3d0a-a0d6-4e6a-f03b-1a76c92df26d",
        "colab": {
          "base_uri": "https://localhost:8080/"
        }
      },
      "source": [
        "import os\n",
        "datadir = \"speech_commands\"\n",
        "\n",
        "!wget http://download.tensorflow.org/data/speech_commands_v0.01.tar.gz -O speech_commands_v0.01.tar.gz\n",
        "# alternative url: https://www.dropbox.com/s/j95n278g48bcbta/speech_commands_v0.01.tar.gz?dl=1\n",
        "!mkdir {datadir} && tar -C {datadir} -xvzf speech_commands_v0.01.tar.gz 1> log\n",
        "\n",
        "samples_by_target = {\n",
        "    cls: [os.path.join(datadir, cls, name) for name in os.listdir(\"./speech_commands/{}\".format(cls))]\n",
        "    for cls in os.listdir(datadir)\n",
        "    if os.path.isdir(os.path.join(datadir, cls))\n",
        "}\n",
        "print('Classes:', ', '.join(sorted(samples_by_target.keys())[1:]))"
      ],
      "execution_count": null,
      "outputs": [
        {
          "output_type": "stream",
          "text": [
            "--2020-11-02 09:57:03--  http://download.tensorflow.org/data/speech_commands_v0.01.tar.gz\n",
            "Resolving download.tensorflow.org (download.tensorflow.org)... 172.217.7.240, 2607:f8b0:4004:802::2010\n",
            "Connecting to download.tensorflow.org (download.tensorflow.org)|172.217.7.240|:80... connected.\n",
            "HTTP request sent, awaiting response... 200 OK\n",
            "Length: 1489096277 (1.4G) [application/gzip]\n",
            "Saving to: ‘speech_commands_v0.01.tar.gz’\n",
            "\n",
            "speech_commands_v0. 100%[===================>]   1.39G   204MB/s    in 9.0s    \n",
            "\n",
            "2020-11-02 09:57:12 (158 MB/s) - ‘speech_commands_v0.01.tar.gz’ saved [1489096277/1489096277]\n",
            "\n",
            "Classes: bed, bird, cat, dog, down, eight, five, four, go, happy, house, left, marvin, nine, no, off, on, one, right, seven, sheila, six, stop, three, tree, two, up, wow, yes, zero\n"
          ],
          "name": "stdout"
        }
      ]
    },
    {
      "cell_type": "markdown",
      "metadata": {
        "id": "tpcVnMW_wDs8"
      },
      "source": [
        "    Choose from 1 to 3 keywords to your liking, and use the rest as negative examples.\n",
        "    We recommend to use sheila and/or marvin."
      ]
    },
    {
      "cell_type": "markdown",
      "metadata": {
        "id": "gyQXhF09BJxu"
      },
      "source": [
        "Let's use \"marvin\""
      ]
    },
    {
      "cell_type": "code",
      "metadata": {
        "id": "rtMuy0_CNZlX",
        "outputId": "9355a7dd-d380-4a13-a9e3-71673709a386",
        "colab": {
          "base_uri": "https://localhost:8080/"
        }
      },
      "source": [
        "for key in samples_by_target.keys():\n",
        "  print(key, len(samples_by_target[key]))"
      ],
      "execution_count": null,
      "outputs": [
        {
          "output_type": "stream",
          "text": [
            "yes 2377\n",
            "cat 1733\n",
            "six 2369\n",
            "happy 1742\n",
            "seven 2377\n",
            "left 2353\n",
            "no 2375\n",
            "stop 2380\n",
            "right 2367\n",
            "wow 1745\n",
            "_background_noise_ 7\n",
            "zero 2376\n",
            "marvin 1746\n",
            "dog 1746\n",
            "two 2373\n",
            "nine 2364\n",
            "tree 1733\n",
            "sheila 1734\n",
            "three 2356\n",
            "eight 2352\n",
            "house 1750\n",
            "on 2367\n",
            "bed 1713\n",
            "one 2370\n",
            "five 2357\n",
            "four 2372\n",
            "up 2375\n",
            "go 2372\n",
            "down 2359\n",
            "bird 1731\n",
            "off 2357\n"
          ],
          "name": "stdout"
        }
      ]
    },
    {
      "cell_type": "code",
      "metadata": {
        "id": "ncI3fy-pQ4C2",
        "outputId": "16267843-09a7-4aed-d99a-8aafc8d9c0b4",
        "colab": {
          "base_uri": "https://localhost:8080/"
        }
      },
      "source": [
        "len(samples_by_target)"
      ],
      "execution_count": null,
      "outputs": [
        {
          "output_type": "execute_result",
          "data": {
            "text/plain": [
              "31"
            ]
          },
          "metadata": {
            "tags": []
          },
          "execution_count": 10
        }
      ]
    },
    {
      "cell_type": "code",
      "metadata": {
        "id": "r7oub3qxz4qs",
        "outputId": "840bc5de-8783-45c7-a00f-84b4e0642d92",
        "colab": {
          "base_uri": "https://localhost:8080/"
        }
      },
      "source": [
        "samples_by_target['marvin'][0:10]"
      ],
      "execution_count": null,
      "outputs": [
        {
          "output_type": "execute_result",
          "data": {
            "text/plain": [
              "['speech_commands/marvin/682e1687_nohash_1.wav',\n",
              " 'speech_commands/marvin/881583a6_nohash_0.wav',\n",
              " 'speech_commands/marvin/7014b07e_nohash_2.wav',\n",
              " 'speech_commands/marvin/a527cb3c_nohash_1.wav',\n",
              " 'speech_commands/marvin/98447c43_nohash_0.wav',\n",
              " 'speech_commands/marvin/b843de62_nohash_1.wav',\n",
              " 'speech_commands/marvin/8c888bbb_nohash_1.wav',\n",
              " 'speech_commands/marvin/ef2a3cfb_nohash_0.wav',\n",
              " 'speech_commands/marvin/7ff085e1_nohash_2.wav',\n",
              " 'speech_commands/marvin/72198b96_nohash_0.wav']"
            ]
          },
          "metadata": {
            "tags": []
          },
          "execution_count": 11
        }
      ]
    },
    {
      "cell_type": "code",
      "metadata": {
        "id": "WD2dqgTBOTip",
        "outputId": "b41ca3da-a934-4a7d-b50c-ae311a186d5e",
        "colab": {
          "base_uri": "https://localhost:8080/"
        }
      },
      "source": [
        "len(samples_by_target['marvin'])"
      ],
      "execution_count": null,
      "outputs": [
        {
          "output_type": "execute_result",
          "data": {
            "text/plain": [
              "1746"
            ]
          },
          "metadata": {
            "tags": []
          },
          "execution_count": 12
        }
      ]
    },
    {
      "cell_type": "code",
      "metadata": {
        "id": "GLRKYbLZ5hk4"
      },
      "source": [
        "COLUMN_NAMES=['wav_filename', 'class']\n",
        "marvin_df = pd.DataFrame(columns=COLUMN_NAMES)\n",
        "non_marvin_df = pd.DataFrame(columns=COLUMN_NAMES)"
      ],
      "execution_count": null,
      "outputs": []
    },
    {
      "cell_type": "code",
      "metadata": {
        "id": "zcCut-Qz8fUW"
      },
      "source": [
        "i = 0\n",
        "for filename in samples_by_target['marvin']:\n",
        "  marvin_df.loc[i] = [filename, 1]\n",
        "  i += 1\n",
        "\n",
        "needed_len = len(samples_by_target['marvin']) // 29  # so that dataset contains equal quantity of two classes\n",
        "i = 0\n",
        "for key in samples_by_target.keys():\n",
        "  if key != '_background_noise_' and key != 'marvin':\n",
        "    for filename in samples_by_target[key][0:needed_len]:\n",
        "      non_marvin_df.loc[i] = [filename, 0]\n",
        "      i += 1"
      ],
      "execution_count": null,
      "outputs": []
    },
    {
      "cell_type": "code",
      "metadata": {
        "id": "pfYsTPD0CM85"
      },
      "source": [
        "marvin_df['class'] = marvin_df['class'].astype(int)\n",
        "non_marvin_df['class'] = non_marvin_df['class'].astype(int)"
      ],
      "execution_count": null,
      "outputs": []
    },
    {
      "cell_type": "code",
      "metadata": {
        "id": "pdk_geyw9J3Q",
        "outputId": "57d567e3-a8db-47ac-fce9-16962f84621b",
        "colab": {
          "base_uri": "https://localhost:8080/",
          "height": 415
        }
      },
      "source": [
        "marvin_df"
      ],
      "execution_count": null,
      "outputs": [
        {
          "output_type": "execute_result",
          "data": {
            "text/html": [
              "<div>\n",
              "<style scoped>\n",
              "    .dataframe tbody tr th:only-of-type {\n",
              "        vertical-align: middle;\n",
              "    }\n",
              "\n",
              "    .dataframe tbody tr th {\n",
              "        vertical-align: top;\n",
              "    }\n",
              "\n",
              "    .dataframe thead th {\n",
              "        text-align: right;\n",
              "    }\n",
              "</style>\n",
              "<table border=\"1\" class=\"dataframe\">\n",
              "  <thead>\n",
              "    <tr style=\"text-align: right;\">\n",
              "      <th></th>\n",
              "      <th>wav_filename</th>\n",
              "      <th>class</th>\n",
              "    </tr>\n",
              "  </thead>\n",
              "  <tbody>\n",
              "    <tr>\n",
              "      <th>0</th>\n",
              "      <td>speech_commands/marvin/682e1687_nohash_1.wav</td>\n",
              "      <td>1</td>\n",
              "    </tr>\n",
              "    <tr>\n",
              "      <th>1</th>\n",
              "      <td>speech_commands/marvin/881583a6_nohash_0.wav</td>\n",
              "      <td>1</td>\n",
              "    </tr>\n",
              "    <tr>\n",
              "      <th>2</th>\n",
              "      <td>speech_commands/marvin/7014b07e_nohash_2.wav</td>\n",
              "      <td>1</td>\n",
              "    </tr>\n",
              "    <tr>\n",
              "      <th>3</th>\n",
              "      <td>speech_commands/marvin/a527cb3c_nohash_1.wav</td>\n",
              "      <td>1</td>\n",
              "    </tr>\n",
              "    <tr>\n",
              "      <th>4</th>\n",
              "      <td>speech_commands/marvin/98447c43_nohash_0.wav</td>\n",
              "      <td>1</td>\n",
              "    </tr>\n",
              "    <tr>\n",
              "      <th>...</th>\n",
              "      <td>...</td>\n",
              "      <td>...</td>\n",
              "    </tr>\n",
              "    <tr>\n",
              "      <th>1741</th>\n",
              "      <td>speech_commands/marvin/300384f0_nohash_0.wav</td>\n",
              "      <td>1</td>\n",
              "    </tr>\n",
              "    <tr>\n",
              "      <th>1742</th>\n",
              "      <td>speech_commands/marvin/c0e8f5a1_nohash_1.wav</td>\n",
              "      <td>1</td>\n",
              "    </tr>\n",
              "    <tr>\n",
              "      <th>1743</th>\n",
              "      <td>speech_commands/marvin/4f2ab70c_nohash_0.wav</td>\n",
              "      <td>1</td>\n",
              "    </tr>\n",
              "    <tr>\n",
              "      <th>1744</th>\n",
              "      <td>speech_commands/marvin/65d14087_nohash_1.wav</td>\n",
              "      <td>1</td>\n",
              "    </tr>\n",
              "    <tr>\n",
              "      <th>1745</th>\n",
              "      <td>speech_commands/marvin/f2dd248e_nohash_1.wav</td>\n",
              "      <td>1</td>\n",
              "    </tr>\n",
              "  </tbody>\n",
              "</table>\n",
              "<p>1746 rows × 2 columns</p>\n",
              "</div>"
            ],
            "text/plain": [
              "                                      wav_filename  class\n",
              "0     speech_commands/marvin/682e1687_nohash_1.wav      1\n",
              "1     speech_commands/marvin/881583a6_nohash_0.wav      1\n",
              "2     speech_commands/marvin/7014b07e_nohash_2.wav      1\n",
              "3     speech_commands/marvin/a527cb3c_nohash_1.wav      1\n",
              "4     speech_commands/marvin/98447c43_nohash_0.wav      1\n",
              "...                                            ...    ...\n",
              "1741  speech_commands/marvin/300384f0_nohash_0.wav      1\n",
              "1742  speech_commands/marvin/c0e8f5a1_nohash_1.wav      1\n",
              "1743  speech_commands/marvin/4f2ab70c_nohash_0.wav      1\n",
              "1744  speech_commands/marvin/65d14087_nohash_1.wav      1\n",
              "1745  speech_commands/marvin/f2dd248e_nohash_1.wav      1\n",
              "\n",
              "[1746 rows x 2 columns]"
            ]
          },
          "metadata": {
            "tags": []
          },
          "execution_count": 16
        }
      ]
    },
    {
      "cell_type": "code",
      "metadata": {
        "id": "7jeExs_-Fbo1",
        "outputId": "1e728d67-5df4-4a94-df64-ab7f696539ac",
        "colab": {
          "base_uri": "https://localhost:8080/",
          "height": 415
        }
      },
      "source": [
        "non_marvin_df"
      ],
      "execution_count": null,
      "outputs": [
        {
          "output_type": "execute_result",
          "data": {
            "text/html": [
              "<div>\n",
              "<style scoped>\n",
              "    .dataframe tbody tr th:only-of-type {\n",
              "        vertical-align: middle;\n",
              "    }\n",
              "\n",
              "    .dataframe tbody tr th {\n",
              "        vertical-align: top;\n",
              "    }\n",
              "\n",
              "    .dataframe thead th {\n",
              "        text-align: right;\n",
              "    }\n",
              "</style>\n",
              "<table border=\"1\" class=\"dataframe\">\n",
              "  <thead>\n",
              "    <tr style=\"text-align: right;\">\n",
              "      <th></th>\n",
              "      <th>wav_filename</th>\n",
              "      <th>class</th>\n",
              "    </tr>\n",
              "  </thead>\n",
              "  <tbody>\n",
              "    <tr>\n",
              "      <th>0</th>\n",
              "      <td>speech_commands/yes/ce9410da_nohash_1.wav</td>\n",
              "      <td>0</td>\n",
              "    </tr>\n",
              "    <tr>\n",
              "      <th>1</th>\n",
              "      <td>speech_commands/yes/e53139ad_nohash_3.wav</td>\n",
              "      <td>0</td>\n",
              "    </tr>\n",
              "    <tr>\n",
              "      <th>2</th>\n",
              "      <td>speech_commands/yes/df1d5024_nohash_2.wav</td>\n",
              "      <td>0</td>\n",
              "    </tr>\n",
              "    <tr>\n",
              "      <th>3</th>\n",
              "      <td>speech_commands/yes/333784b7_nohash_1.wav</td>\n",
              "      <td>0</td>\n",
              "    </tr>\n",
              "    <tr>\n",
              "      <th>4</th>\n",
              "      <td>speech_commands/yes/16d41d07_nohash_0.wav</td>\n",
              "      <td>0</td>\n",
              "    </tr>\n",
              "    <tr>\n",
              "      <th>...</th>\n",
              "      <td>...</td>\n",
              "      <td>...</td>\n",
              "    </tr>\n",
              "    <tr>\n",
              "      <th>1735</th>\n",
              "      <td>speech_commands/off/1e4064b8_nohash_1.wav</td>\n",
              "      <td>0</td>\n",
              "    </tr>\n",
              "    <tr>\n",
              "      <th>1736</th>\n",
              "      <td>speech_commands/off/64574a99_nohash_0.wav</td>\n",
              "      <td>0</td>\n",
              "    </tr>\n",
              "    <tr>\n",
              "      <th>1737</th>\n",
              "      <td>speech_commands/off/ffd2ba2f_nohash_2.wav</td>\n",
              "      <td>0</td>\n",
              "    </tr>\n",
              "    <tr>\n",
              "      <th>1738</th>\n",
              "      <td>speech_commands/off/cb2929ce_nohash_3.wav</td>\n",
              "      <td>0</td>\n",
              "    </tr>\n",
              "    <tr>\n",
              "      <th>1739</th>\n",
              "      <td>speech_commands/off/c79159aa_nohash_0.wav</td>\n",
              "      <td>0</td>\n",
              "    </tr>\n",
              "  </tbody>\n",
              "</table>\n",
              "<p>1740 rows × 2 columns</p>\n",
              "</div>"
            ],
            "text/plain": [
              "                                   wav_filename  class\n",
              "0     speech_commands/yes/ce9410da_nohash_1.wav      0\n",
              "1     speech_commands/yes/e53139ad_nohash_3.wav      0\n",
              "2     speech_commands/yes/df1d5024_nohash_2.wav      0\n",
              "3     speech_commands/yes/333784b7_nohash_1.wav      0\n",
              "4     speech_commands/yes/16d41d07_nohash_0.wav      0\n",
              "...                                         ...    ...\n",
              "1735  speech_commands/off/1e4064b8_nohash_1.wav      0\n",
              "1736  speech_commands/off/64574a99_nohash_0.wav      0\n",
              "1737  speech_commands/off/ffd2ba2f_nohash_2.wav      0\n",
              "1738  speech_commands/off/cb2929ce_nohash_3.wav      0\n",
              "1739  speech_commands/off/c79159aa_nohash_0.wav      0\n",
              "\n",
              "[1740 rows x 2 columns]"
            ]
          },
          "metadata": {
            "tags": []
          },
          "execution_count": 17
        }
      ]
    },
    {
      "cell_type": "code",
      "metadata": {
        "id": "f9HI8PP9Fdrm",
        "outputId": "a32ed1c2-2122-4ec5-e5d5-4bbad300ae30",
        "colab": {
          "base_uri": "https://localhost:8080/"
        }
      },
      "source": [
        "train_marvin = marvin_df.sample(frac=0.9, random_state=21)\n",
        "test_marvin = marvin_df.drop(train_marvin.index)\n",
        "\n",
        "train_non_marvin = non_marvin_df.sample(frac=0.9, random_state=21)\n",
        "test_non_marvin = non_marvin_df.drop(train_non_marvin.index)\n",
        "\n",
        "train_set = pd.concat([train_marvin, train_non_marvin])\n",
        "test_set = pd.concat([test_marvin, test_non_marvin])\n",
        "\n",
        "# df = df.sample(frac=1).reset_index(drop=True)\n",
        "train_set = train_set.sample(frac=1, random_state=22).reset_index(drop=True)\n",
        "test_set = test_set.sample(frac=1, random_state=22).reset_index(drop=True)\n",
        "\n",
        "print(\"train set size:\", len(train_set), \"\\ntest set size:\", len(test_set))"
      ],
      "execution_count": null,
      "outputs": [
        {
          "output_type": "stream",
          "text": [
            "train set size: 3137 \n",
            "test set size: 349\n"
          ],
          "name": "stdout"
        }
      ]
    },
    {
      "cell_type": "code",
      "metadata": {
        "id": "x7ChzoFD0GBS"
      },
      "source": [
        "mel_transform = torchaudio.transforms.MelSpectrogram(\n",
        "    sample_rate=22050,\n",
        "    n_fft=1024,\n",
        "    win_length=1024,\n",
        "    hop_length=256,\n",
        "    f_min=0,\n",
        "    f_max=8000,\n",
        "    n_mels=n_mels).to(device)"
      ],
      "execution_count": null,
      "outputs": []
    },
    {
      "cell_type": "code",
      "metadata": {
        "id": "3mtvTDEj1tZj",
        "outputId": "3773e3b7-a966-47b6-ca29-bdbca0eef4d5",
        "colab": {
          "base_uri": "https://localhost:8080/",
          "height": 75
        }
      },
      "source": [
        "import IPython\n",
        "\n",
        "IPython.display.Audio(\"speech_commands/marvin/cc592808_nohash_0.wav\")  "
      ],
      "execution_count": null,
      "outputs": [
        {
          "output_type": "execute_result",
          "data": {
            "text/html": [
              "\n",
              "                <audio controls=\"controls\" >\n",
              "                    <source src=\"data:audio/x-wav;base64,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\" type=\"audio/x-wav\" />\n",
              "                    Your browser does not support the audio element.\n",
              "                </audio>\n",
              "              "
            ],
            "text/plain": [
              "<IPython.lib.display.Audio object>"
            ]
          },
          "metadata": {
            "tags": []
          },
          "execution_count": 20
        }
      ]
    },
    {
      "cell_type": "code",
      "metadata": {
        "id": "7RhaI-AoX3Ji"
      },
      "source": [
        "class MyDataset(Dataset):\n",
        "    def __init__(self, data):\n",
        "        super(MyDataset, self).__init__()\n",
        "        self._data = data\n",
        "\n",
        "    def __getitem__(self, index: int):\n",
        "        wav_filename, true_class = self._data.iloc[index]\n",
        "        # print(\"file:\", wav_filename)\n",
        "        # path_to_file = path_to_dataset + \"wavs/\" + wav_filename + \".wav\"\n",
        "\n",
        "        waveform, sample_rate = torchaudio.load(wav_filename)\n",
        "        waveform = waveform.to(device)\n",
        "        spectrogram = mel_transform(waveform)\n",
        "        spectrogram = torch.log(spectrogram + 1e-9)\n",
        "\n",
        "        return spectrogram, true_class\n",
        "\n",
        "    def __len__(self):\n",
        "        return len(self._data)"
      ],
      "execution_count": null,
      "outputs": []
    },
    {
      "cell_type": "code",
      "metadata": {
        "id": "mHur-bjgX3RU"
      },
      "source": [
        "train_dataset = MyDataset(train_set)\n",
        "test_dataset = MyDataset(test_set)"
      ],
      "execution_count": null,
      "outputs": []
    },
    {
      "cell_type": "code",
      "metadata": {
        "id": "DyAPmzXnX3Nc",
        "outputId": "e04a5fd4-0f7b-4206-fe4b-7f66a0e66ca1",
        "colab": {
          "base_uri": "https://localhost:8080/",
          "height": 339
        }
      },
      "source": [
        "plt.figure(figsize=(20, 5))\n",
        "spectrogram, true_class = train_dataset.__getitem__(0)\n",
        "print(true_class)\n",
        "plt.imshow(spectrogram.cpu().squeeze())\n",
        "plt.show()"
      ],
      "execution_count": null,
      "outputs": [
        {
          "output_type": "stream",
          "text": [
            "1\n"
          ],
          "name": "stdout"
        },
        {
          "output_type": "display_data",
          "data": {
            "image/png": "[encoded data removed]",
            "text/plain": [
              "<Figure size 1440x360 with 1 Axes>"
            ]
          },
          "metadata": {
            "tags": [],
            "needs_background": "light"
          }
        }
      ]
    },
    {
      "cell_type": "code",
      "metadata": {
        "id": "30-tRGTyBlBw"
      },
      "source": [
        "def augment(waveform):\n",
        "    freq_transform = torchaudio.transforms.FrequencyMasking(freq_mask_param=freq_mask_param)\n",
        "    time_transform = torchaudio.transforms.TimeMasking(time_mask_param=time_mask_param)\n",
        "    return time_transform(freq_transform(waveform))"
      ],
      "execution_count": null,
      "outputs": []
    },
    {
      "cell_type": "code",
      "metadata": {
        "id": "OVxLC2AdB0lI"
      },
      "source": [
        "def collate_sequences(batch, is_test = False):\n",
        "    specs = []\n",
        "    labels = []\n",
        "    specs_len = []\n",
        "    labels_len = []\n",
        "    for (log_mel_spec, true_class) in batch:\n",
        "        # print(\"true_class:\", true_class)\n",
        "        if not is_test:\n",
        "            log_mel_spec = augment(log_mel_spec)\n",
        "        specs.append(log_mel_spec.squeeze(0).transpose(0, 1))\n",
        "        # specs_len.append(log_mel_spec.shape[-1]//2)\n",
        "        # print(log_mel_spec.shape)\n",
        "        # text_in_ints = torch.Tensor(text_transform(text_in_letters))\n",
        "        labels.append(torch.LongTensor([true_class]))\n",
        "        # labels_len.append(1)\n",
        "\n",
        "    # print(\"labels before cat:\", labels)\n",
        "    specs = nn.utils.rnn.pad_sequence(sequences=specs, batch_first=True).transpose(1, 2)\n",
        "    # labels = nn.utils.rnn.pad_sequence(sequences=labels, batch_first=True)\n",
        "    labels = torch.cat(labels)\n",
        "    # print(\"labels after cat:\", labels)\n",
        "\n",
        "    return specs, labels  # , specs_len, labels_len"
      ],
      "execution_count": null,
      "outputs": []
    },
    {
      "cell_type": "code",
      "metadata": {
        "id": "DKjzwgHLEyQg"
      },
      "source": [
        "train_dataloader = DataLoader(\n",
        "            train_dataset,\n",
        "            batch_size=batch_size,\n",
        "            collate_fn=collate_sequences,\n",
        "            num_workers=0\n",
        "            # pin_memory=True\n",
        "        )\n",
        "\n",
        "test_dataloader = DataLoader(\n",
        "            test_dataset,\n",
        "            batch_size=batch_size,\n",
        "            collate_fn=lambda x: collate_sequences(x, True),\n",
        "            num_workers=0\n",
        "            # pin_memory=True\n",
        "        )"
      ],
      "execution_count": null,
      "outputs": []
    },
    {
      "cell_type": "code",
      "metadata": {
        "id": "HOZq6zNPEyOy",
        "outputId": "904c0e6e-35ff-4e3e-c9b2-9545fd92d8bb",
        "colab": {
          "base_uri": "https://localhost:8080/"
        }
      },
      "source": [
        "print(len(train_dataloader))\n",
        "print(len(test_dataloader))"
      ],
      "execution_count": null,
      "outputs": [
        {
          "output_type": "stream",
          "text": [
            "99\n",
            "11\n"
          ],
          "name": "stdout"
        }
      ]
    },
    {
      "cell_type": "markdown",
      "metadata": {
        "id": "Wf891e3jwDs9"
      },
      "source": [
        "# Model"
      ]
    },
    {
      "cell_type": "code",
      "metadata": {
        "id": "Vi-ZRMyNxU3S"
      },
      "source": [
        "class CRNNEncoder(nn.Module):\n",
        "    def __init__(self):\n",
        "        super(CRNNEncoder, self).__init__()\n",
        "        self.cnn = nn.Conv1d(\n",
        "            in_channels=40, out_channels=64, kernel_size=20, padding=20//2\n",
        "        )\n",
        "        self.gru = nn.GRU(input_size=64, hidden_size=128)\n",
        "\n",
        "    def forward(self, x):\n",
        "        # print(\"0\", x.shape)\n",
        "        outputs = self.cnn(x)\n",
        "        # print(\"1.1 outputs - after cnn\", outputs.shape)\n",
        "        # print(\"1.2 outputs.size(-1)\", outputs.size(-1))\n",
        "        # reshape for gru\n",
        "        outputs = torch.transpose(outputs, 0, 2)\n",
        "        outputs = torch.transpose(outputs, 1, 2)\n",
        "        # print(\"1.2 outputs after transformation\", outputs.shape)\n",
        "        outputs, __ = self.gru(outputs)\n",
        "        # reshape back\n",
        "        # outputs = torch.transpose(outputs, 1, 2)\n",
        "        # outputs = torch.transpose(outputs, 0, 2)\n",
        "        outputs = torch.transpose(outputs, 0, 1)\n",
        "\t\t    ## from (1, N, hidden) to (N, hidden)\n",
        "        # hiddens = hiddens.view(hiddens.size()[1], hiddens.size(2))\n",
        "        # print(\"2.1 hiddens - after gru\", hiddens.shape)\n",
        "        # print(\"2.2 outputs - after gru and back transformation\", outputs.shape)\n",
        "\n",
        "        return outputs  # , hiddens\n"
      ],
      "execution_count": null,
      "outputs": []
    },
    {
      "cell_type": "code",
      "metadata": {
        "id": "pWXIZjKo8xvl"
      },
      "source": [
        "class Attn(nn.Module):\n",
        "    def __init__(self):\n",
        "        super(Attn, self).__init__()\n",
        "        self.main_fully_connected = nn.Linear(in_features=128, out_features=64)\n",
        "        self.main_softmax = nn.Softmax(dim=-1)\n",
        "        self.tanh = nn.Tanh()\n",
        "        self.v = nn.Linear(64, 1)\n",
        "        self.middle_softmax = nn.Softmax(dim=1)\n",
        "        self.final_fully_connected = nn.Linear(in_features=128, out_features=2)\n",
        "        self.final_softmax = nn.Softmax(dim=0)\n",
        "\n",
        "    def forward(self, hiddens, streaming_mode):\n",
        "        # print(\"0\", hiddens.shape)\n",
        "        x = self.main_fully_connected(hiddens)\n",
        "        # print(\"1 after main fully conn\", x.shape)\n",
        "        x = self.main_softmax(x)\n",
        "        # print(\"2 after main softmax\", x.shape)\n",
        "        x = self.tanh(x)\n",
        "        # print(\"3 after tanh\", x.shape)\n",
        "        e = self.v(x)\n",
        "        # print(\"4 e - after v\", e.shape)\n",
        "        a = self.middle_softmax(e)\n",
        "        # print(\"5 a - after middle softmax\", a.shape)\n",
        "        # print(\"transposed shape\", torch.transpose(hiddens[0], 0, 1).shape)\n",
        "        # print(\"a[0] shape\", a[0].shape)\n",
        "\n",
        "        outputs = []\n",
        "        for i in range(hiddens.shape[0]):\n",
        "          outputs.append(torch.mm(torch.transpose(hiddens[i], 0, 1), a[i]))\n",
        "        # outputs = torch.mm(torch.transpose(hiddens, 0, 1), a)\n",
        "        outputs = torch.transpose(torch.cat(outputs, dim=1), 0, 1)\n",
        "        # print(\"6 outputs - after mv\", outputs.shape)\n",
        "        outputs = self.final_fully_connected(outputs)\n",
        "        # print(\"7 outputs - after final fully connected\", outputs.shape)\n",
        "        if not streaming_mode:\n",
        "          outputs = self.final_softmax(outputs)\n",
        "        # print(\"8 outputs - after final softmax\", outputs.shape)\n",
        "        return outputs\n"
      ],
      "execution_count": null,
      "outputs": []
    },
    {
      "cell_type": "code",
      "metadata": {
        "id": "2t2vowry2M6o"
      },
      "source": [
        "\n",
        "class KWS(nn.Module):\n",
        "    def __init__(self):\n",
        "        super(KWS, self).__init__()\n",
        "        \n",
        "        self.encoder = CRNNEncoder()\n",
        "        self.attention = Attn()\n",
        "\n",
        "    def forward(self, x, streaming_mode = False):\n",
        "        # x (batch, channel, feature, time)\n",
        "        outputs = self.encoder(x)\n",
        "        x = self.attention(outputs, streaming_mode)\n",
        "        # x = x.transpose(1, 2)\n",
        "        return x  # (batch, channel, feature, time)"
      ],
      "execution_count": null,
      "outputs": []
    },
    {
      "cell_type": "code",
      "metadata": {
        "id": "LygklOhdpk3w"
      },
      "source": [
        ""
      ],
      "execution_count": null,
      "outputs": []
    },
    {
      "cell_type": "code",
      "metadata": {
        "id": "DsnPKtPGOBdf"
      },
      "source": [
        "# test_model = KWS().to(device)"
      ],
      "execution_count": null,
      "outputs": []
    },
    {
      "cell_type": "code",
      "metadata": {
        "id": "Zhx-Uj8TaCMU"
      },
      "source": [
        "# test_specs, test_labels = next(iter(test_dataloader))"
      ],
      "execution_count": null,
      "outputs": []
    },
    {
      "cell_type": "code",
      "metadata": {
        "id": "hnfM9Tz_qxmR"
      },
      "source": [
        "# print(test_labels)"
      ],
      "execution_count": null,
      "outputs": []
    },
    {
      "cell_type": "markdown",
      "metadata": {
        "id": "SmuW7XbT23IM"
      },
      "source": [
        "# Train-Test pipeline"
      ]
    },
    {
      "cell_type": "code",
      "metadata": {
        "id": "W3PwLwnX2M_C",
        "outputId": "40818ed1-be4e-4117-de75-471cdbcceadb",
        "colab": {
          "base_uri": "https://localhost:8080/"
        }
      },
      "source": [
        "model=KWS().to(device)\n",
        "wandb.watch(model)"
      ],
      "execution_count": null,
      "outputs": [
        {
          "output_type": "execute_result",
          "data": {
            "text/plain": [
              "[<wandb.wandb_torch.TorchGraph at 0x7f7e5efee7f0>]"
            ]
          },
          "metadata": {
            "tags": []
          },
          "execution_count": 34
        }
      ]
    },
    {
      "cell_type": "code",
      "metadata": {
        "id": "fMw2jXVxYyth",
        "outputId": "1f9a1f4e-19e8-4d0a-d9b0-023d5975a092",
        "colab": {
          "base_uri": "https://localhost:8080/"
        }
      },
      "source": [
        "total_params = sum(p.numel() for p in model.parameters())\n",
        "print(total_params)"
      ],
      "execution_count": null,
      "outputs": [
        {
          "output_type": "stream",
          "text": [
            "134339\n"
          ],
          "name": "stdout"
        }
      ]
    },
    {
      "cell_type": "code",
      "metadata": {
        "id": "FAjGitLv3AkX"
      },
      "source": [
        "optimizer = torch.optim.AdamW(model.parameters(), lr=5e-4)"
      ],
      "execution_count": null,
      "outputs": []
    },
    {
      "cell_type": "code",
      "metadata": {
        "id": "GSgCiAXx3AqB"
      },
      "source": [
        "criterion = nn.CrossEntropyLoss().to(device)"
      ],
      "execution_count": null,
      "outputs": []
    },
    {
      "cell_type": "code",
      "metadata": {
        "id": "ysr_iiJf4ejR"
      },
      "source": [
        "def train(model, train_dataloader, criterion, optimizer, epoch):\n",
        "    model.train()\n",
        "    data_len = len(train_dataloader.dataset)\n",
        "    losses = []\n",
        "    correct = 0\n",
        "    total = 0\n",
        "    for batch_idx, (log_mel_specs, classes) in enumerate(train_dataloader):\n",
        "        log_mel_specs = log_mel_specs.to(device)\n",
        "        classes = classes.to(device)\n",
        "\n",
        "        optimizer.zero_grad()\n",
        "\n",
        "        output = model(log_mel_specs)  # (batch, time, n_class)\n",
        "        __, predicted = torch.max(output, dim=1)\n",
        "        correct += (predicted == classes).sum().item()\n",
        "        total += classes.shape[0]\n",
        "        \n",
        "        loss = criterion(output, classes)\n",
        "        loss.backward()\n",
        "        losses.append(loss)\n",
        "\n",
        "        optimizer.step()\n",
        "        if batch_idx == 1 and epoch % 10 == 1:\n",
        "            print('Train Epoch: {} [{}/{} ({:.0f}%)]\\tLoss: {:.6f}'.format(\n",
        "                epoch, batch_idx * len(log_mel_specs), data_len,\n",
        "                100. * batch_idx / len(train_dataloader), loss.item()))\n",
        "    return sum(losses) / len(losses), correct / total"
      ],
      "execution_count": null,
      "outputs": []
    },
    {
      "cell_type": "code",
      "metadata": {
        "id": "5rnkJJej4egy"
      },
      "source": [
        "def test(model, test_dataloader, criterion, epoch):\n",
        "    model.eval()\n",
        "    test_loss = 0\n",
        "    correct = 0\n",
        "    total = 0\n",
        "    with torch.no_grad():\n",
        "        for batch_idx, (log_mel_specs, true_class) in enumerate(test_dataloader):\n",
        "            log_mel_specs = log_mel_specs.to(device)\n",
        "            true_class = true_class.to(device)\n",
        "\n",
        "            output = model(log_mel_specs)  # (batch, time, n_class)\n",
        "            __, predicted = torch.max(output, dim=1)\n",
        "            correct += (predicted == true_class).sum().item()\n",
        "            total += true_class.shape[0]\n",
        "            loss = criterion(output, true_class)\n",
        "            test_loss += loss.item() / len(test_dataloader)\n",
        "\n",
        "    print('Test set average loss: {:.4f}\\n'.format(test_loss))\n",
        "    return test_loss, correct / total\n"
      ],
      "execution_count": null,
      "outputs": []
    },
    {
      "cell_type": "code",
      "metadata": {
        "id": "hK0HoN1unzIa"
      },
      "source": [
        "# weights_file = wandb.restore('weights.pt')\n",
        "# model.load_state_dict(torch.load(weights_file.name))"
      ],
      "execution_count": null,
      "outputs": []
    },
    {
      "cell_type": "code",
      "metadata": {
        "id": "ehVTjFr44eev",
        "outputId": "e683af79-aba6-44b9-fd35-40dc3a26de91",
        "colab": {
          "base_uri": "https://localhost:8080/"
        }
      },
      "source": [
        "for epoch in range(50):\n",
        "  print(\"epoch:\", epoch)\n",
        "  train_avg_loss, train_accuracy = train(model, train_dataloader, criterion, optimizer, epoch)\n",
        "  print(\"train accuracy:\", train_accuracy)\n",
        "  test_avg_loss, test_accuracy = test(model, test_dataloader, criterion, epoch)\n",
        "  print(\"test accuracy:\", test_accuracy)\n",
        "  wandb.log({\"Train loss\": train_avg_loss,\n",
        "             \"Test loss\": test_avg_loss,\n",
        "             \"Train accuracy\": train_accuracy,\n",
        "             \"Test accuracy\": test_accuracy})\n",
        "\n",
        "model = model.to(\"cpu\")\n",
        "torch.save(model.state_dict(), os.path.join(wandb.run.dir, 'weights.pt'))\n",
        "wandb.save('weights.h5')\n",
        "# files.download('model_state_dict.pt')\n",
        "model = model.to(device)\n",
        "print(\"Saved model at last epoch\")"
      ],
      "execution_count": null,
      "outputs": [
        {
          "output_type": "stream",
          "text": [
            "epoch: 0\n",
            "train accuracy: 0.6687918393369461\n",
            "Test set average loss: 0.6714\n",
            "\n",
            "test accuracy: 0.6876790830945558\n",
            "epoch: 1\n",
            "Train Epoch: 1 [32/3137 (1%)]\tLoss: 0.675598\n",
            "train accuracy: 0.7299968122409946\n",
            "Test set average loss: 0.6670\n",
            "\n",
            "test accuracy: 0.7822349570200573\n",
            "epoch: 2\n",
            "train accuracy: 0.8042715970672617\n",
            "Test set average loss: 0.6651\n",
            "\n",
            "test accuracy: 0.8051575931232091\n",
            "epoch: 3\n",
            "train accuracy: 0.8390181702263309\n",
            "Test set average loss: 0.6647\n",
            "\n",
            "test accuracy: 0.8510028653295129\n",
            "epoch: 4\n",
            "train accuracy: 0.8412496015301243\n",
            "Test set average loss: 0.6641\n",
            "\n",
            "test accuracy: 0.8424068767908309\n",
            "epoch: 5\n",
            "train accuracy: 0.8645202422696844\n",
            "Test set average loss: 0.6640\n",
            "\n",
            "test accuracy: 0.8882521489971347\n",
            "epoch: 6\n",
            "train accuracy: 0.8651577940707682\n",
            "Test set average loss: 0.6639\n",
            "\n",
            "test accuracy: 0.8681948424068768\n",
            "epoch: 7\n",
            "train accuracy: 0.8769525023908192\n",
            "Test set average loss: 0.6638\n",
            "\n",
            "test accuracy: 0.8739255014326648\n",
            "epoch: 8\n",
            "train accuracy: 0.8772712782913612\n",
            "Test set average loss: 0.6640\n",
            "\n",
            "test accuracy: 0.8510028653295129\n",
            "epoch: 9\n",
            "train accuracy: 0.8559132929550526\n",
            "Test set average loss: 0.6637\n",
            "\n",
            "test accuracy: 0.9025787965616046\n",
            "epoch: 10\n",
            "train accuracy: 0.8836467963021996\n",
            "Test set average loss: 0.6636\n",
            "\n",
            "test accuracy: 0.8939828080229226\n",
            "epoch: 11\n",
            "Train Epoch: 11 [32/3137 (1%)]\tLoss: 0.664380\n",
            "train accuracy: 0.8992668154287536\n",
            "Test set average loss: 0.6633\n",
            "\n",
            "test accuracy: 0.8853868194842407\n",
            "epoch: 12\n",
            "train accuracy: 0.9021357985336309\n",
            "Test set average loss: 0.6632\n",
            "\n",
            "test accuracy: 0.8968481375358166\n",
            "epoch: 13\n",
            "train accuracy: 0.9037296780363404\n",
            "Test set average loss: 0.6633\n",
            "\n",
            "test accuracy: 0.8911174785100286\n",
            "epoch: 14\n",
            "train accuracy: 0.8970353841249602\n",
            "Test set average loss: 0.6632\n",
            "\n",
            "test accuracy: 0.9083094555873925\n",
            "epoch: 15\n",
            "train accuracy: 0.9078737647433854\n",
            "Test set average loss: 0.6630\n",
            "\n",
            "test accuracy: 0.9054441260744985\n",
            "epoch: 16\n",
            "train accuracy: 0.9040484539368824\n",
            "Test set average loss: 0.6632\n",
            "\n",
            "test accuracy: 0.9140401146131805\n",
            "epoch: 17\n",
            "train accuracy: 0.9161619381574753\n",
            "Test set average loss: 0.6629\n",
            "\n",
            "test accuracy: 0.9140401146131805\n",
            "epoch: 18\n",
            "train accuracy: 0.9142492827542238\n",
            "Test set average loss: 0.6631\n",
            "\n",
            "test accuracy: 0.9025787965616046\n",
            "epoch: 19\n",
            "train accuracy: 0.9177558176601849\n",
            "Test set average loss: 0.6629\n",
            "\n",
            "test accuracy: 0.9140401146131805\n",
            "epoch: 20\n",
            "train accuracy: 0.9218999043672298\n",
            "Test set average loss: 0.6629\n",
            "\n",
            "test accuracy: 0.9283667621776505\n",
            "epoch: 21\n",
            "Train Epoch: 21 [32/3137 (1%)]\tLoss: 0.663431\n",
            "train accuracy: 0.9279566464775263\n",
            "Test set average loss: 0.6628\n",
            "\n",
            "test accuracy: 0.9255014326647565\n",
            "epoch: 22\n",
            "train accuracy: 0.9260439910742748\n",
            "Test set average loss: 0.6629\n",
            "\n",
            "test accuracy: 0.9312320916905444\n",
            "epoch: 23\n",
            "train accuracy: 0.9266815428753586\n",
            "Test set average loss: 0.6629\n",
            "\n",
            "test accuracy: 0.9369627507163324\n",
            "epoch: 24\n",
            "train accuracy: 0.9295505259802359\n",
            "Test set average loss: 0.6627\n",
            "\n",
            "test accuracy: 0.9340974212034384\n",
            "epoch: 25\n",
            "train accuracy: 0.933057060886197\n",
            "Test set average loss: 0.6627\n",
            "\n",
            "test accuracy: 0.9226361031518625\n",
            "epoch: 26\n",
            "train accuracy: 0.9285941982786101\n",
            "Test set average loss: 0.6626\n",
            "\n",
            "test accuracy: 0.9455587392550143\n",
            "epoch: 27\n",
            "train accuracy: 0.9346509403889066\n",
            "Test set average loss: 0.6627\n",
            "\n",
            "test accuracy: 0.9312320916905444\n",
            "epoch: 28\n",
            "train accuracy: 0.9381574752948677\n",
            "Test set average loss: 0.6626\n",
            "\n",
            "test accuracy: 0.9312320916905444\n",
            "epoch: 29\n",
            "train accuracy: 0.9362448198916162\n",
            "Test set average loss: 0.6626\n",
            "\n",
            "test accuracy: 0.9283667621776505\n",
            "epoch: 30\n",
            "train accuracy: 0.9324195090851132\n",
            "Test set average loss: 0.6627\n",
            "\n",
            "test accuracy: 0.9255014326647565\n",
            "epoch: 31\n",
            "Train Epoch: 31 [32/3137 (1%)]\tLoss: 0.662924\n",
            "train accuracy: 0.9228562320688556\n",
            "Test set average loss: 0.6626\n",
            "\n",
            "test accuracy: 0.9369627507163324\n",
            "epoch: 32\n",
            "train accuracy: 0.9343321644883646\n",
            "Test set average loss: 0.6628\n",
            "\n",
            "test accuracy: 0.9426934097421203\n",
            "epoch: 33\n",
            "train accuracy: 0.9359260439910743\n",
            "Test set average loss: 0.6628\n",
            "\n",
            "test accuracy: 0.9426934097421203\n",
            "epoch: 34\n",
            "train accuracy: 0.944851769206248\n",
            "Test set average loss: 0.6626\n",
            "\n",
            "test accuracy: 0.9340974212034384\n",
            "epoch: 35\n",
            "train accuracy: 0.9349697162894485\n",
            "Test set average loss: 0.6630\n",
            "\n",
            "test accuracy: 0.9312320916905444\n",
            "epoch: 36\n",
            "train accuracy: 0.9454893210073319\n",
            "Test set average loss: 0.6628\n",
            "\n",
            "test accuracy: 0.9398280802292264\n",
            "epoch: 37\n",
            "train accuracy: 0.9442142174051642\n",
            "Test set average loss: 0.6626\n",
            "\n",
            "test accuracy: 0.9340974212034384\n",
            "epoch: 38\n",
            "train accuracy: 0.9317819572840293\n",
            "Test set average loss: 0.6628\n",
            "\n",
            "test accuracy: 0.9283667621776505\n",
            "epoch: 39\n",
            "train accuracy: 0.9372011475932419\n",
            "Test set average loss: 0.6627\n",
            "\n",
            "test accuracy: 0.9455587392550143\n",
            "epoch: 40\n",
            "train accuracy: 0.952821166719796\n",
            "Test set average loss: 0.6625\n",
            "\n",
            "test accuracy: 0.9426934097421203\n",
            "epoch: 41\n",
            "Train Epoch: 41 [32/3137 (1%)]\tLoss: 0.663129\n",
            "train accuracy: 0.9445329933057061\n",
            "Test set average loss: 0.6626\n",
            "\n",
            "test accuracy: 0.9140401146131805\n",
            "epoch: 42\n",
            "train accuracy: 0.9203060248645203\n",
            "Test set average loss: 0.6626\n",
            "\n",
            "test accuracy: 0.9570200573065902\n",
            "epoch: 43\n",
            "train accuracy: 0.9397513547975773\n",
            "Test set average loss: 0.6626\n",
            "\n",
            "test accuracy: 0.9426934097421203\n",
            "epoch: 44\n",
            "train accuracy: 0.9403889065986611\n",
            "Test set average loss: 0.6626\n",
            "\n",
            "test accuracy: 0.9455587392550143\n",
            "epoch: 45\n",
            "train accuracy: 0.9483583041122091\n",
            "Test set average loss: 0.6627\n",
            "\n",
            "test accuracy: 0.9283667621776505\n",
            "epoch: 46\n",
            "train accuracy: 0.9474019764105833\n",
            "Test set average loss: 0.6626\n",
            "\n",
            "test accuracy: 0.9426934097421203\n",
            "epoch: 47\n",
            "train accuracy: 0.9442142174051642\n",
            "Test set average loss: 0.6625\n",
            "\n",
            "test accuracy: 0.9369627507163324\n",
            "epoch: 48\n",
            "train accuracy: 0.9496334077143768\n",
            "Test set average loss: 0.6626\n",
            "\n",
            "test accuracy: 0.9340974212034384\n",
            "epoch: 49\n",
            "train accuracy: 0.9400701306981192\n",
            "Test set average loss: 0.6626\n",
            "\n",
            "test accuracy: 0.9541547277936963\n",
            "Saved model at last epoch\n"
          ],
          "name": "stdout"
        }
      ]
    },
    {
      "cell_type": "code",
      "metadata": {
        "id": "EQklC2T380Vp",
        "outputId": "06bc33a2-6a37-4b1f-82e1-40c464e539b1",
        "colab": {
          "base_uri": "https://localhost:8080/"
        }
      },
      "source": [
        "specs, labels = train_dataset.__getitem__(0)\n",
        "specs = specs.to(device)\n",
        "print(labels)\n",
        "model(specs, streaming_mode=True)"
      ],
      "execution_count": null,
      "outputs": [
        {
          "output_type": "stream",
          "text": [
            "1\n"
          ],
          "name": "stdout"
        },
        {
          "output_type": "execute_result",
          "data": {
            "text/plain": [
              "tensor([[-4.4726,  6.6959]], device='cuda:0', grad_fn=<AddmmBackward>)"
            ]
          },
          "metadata": {
            "tags": []
          },
          "execution_count": 37
        }
      ]
    },
    {
      "cell_type": "code",
      "metadata": {
        "id": "FPanOXTNqwr6",
        "outputId": "afad49db-0f8d-4a26-e18a-3932a156b4c7",
        "colab": {
          "base_uri": "https://localhost:8080/"
        }
      },
      "source": [
        "# torch.save(model.state_dict(), os.path.join(wandb.run.dir, 'weights.pt'))\n",
        "# wandb.save('weights.h5')"
      ],
      "execution_count": null,
      "outputs": [
        {
          "output_type": "execute_result",
          "data": {
            "text/plain": [
              "[]"
            ]
          },
          "metadata": {
            "tags": []
          },
          "execution_count": 46
        }
      ]
    },
    {
      "cell_type": "code",
      "metadata": {
        "id": "nBLuPYRu4eWC"
      },
      "source": [
        "def streaming_mode(sample):\n",
        "  int window_size = 61"
      ],
      "execution_count": null,
      "outputs": []
    },
    {
      "cell_type": "markdown",
      "metadata": {
        "id": "_rz-iIKQwDs-"
      },
      "source": [
        "    In this homework assignment, you will need to implement a model for finding a keyword in a stream.\n",
        "\n",
        "        1) https://www.dropbox.com/s/22ah2ba7dug6pzw/KWS_Attention.pdf\n",
        "            It is recommended to implement the version with CNN because it is easy and improves the model.\n",
        "\n",
        "        2) What about streaming?\n",
        "           This model works differently during training and inferance.\n",
        "           During training you have some fixed input and you know that it has a keyword (or not).\n",
        "           During the inferance, you read the T frames and make a prediction on them. And the next step is to read the T+1 frame,\n",
        "           run the neural network just for it, and make a prediction based on it and the T-1 of the previous frames.\n",
        "           This way you don't make unnecessary calculations.\n",
        "\n",
        "           So, your model should support streaming mode.\n",
        "           To demonstrate the work in streaming mode, take two random audio tracks of 10-20 seconds and glue them together\n",
        "           so that your keyword will be between them. Run the model through this glued track and draw how the probability of your keyword changing over time.\n",
        "\n",
        "        3) A good KWS is a robust KWS, so we ask you to implement as many augmentations as possible.\n",
        "           (bonus) Download any noise from YouTube and add it as a background noise to the positive data. This helps a lot in real life.\n",
        "           P.S. Use https://www.youtube-dl.org/\n",
        "\n",
        "        4) (bonus) Add more attentions and orthogonality regularization. https://arxiv.org/abs/1910.04500\n",
        "        \n",
        "        5) (bonus) Speedup you model! Implement distillation of your model, for example,\n",
        "            train the LSTM with 256 hidden size and distil it into LSTM with 128 hidden size."
      ]
    },
    {
      "cell_type": "markdown",
      "metadata": {
        "id": "2BFy96F7wDs_"
      },
      "source": [
        "# Code"
      ]
    },
    {
      "cell_type": "markdown",
      "metadata": {
        "id": "imqPpmLwwDtA"
      },
      "source": [
        "    1) In this homework you are allowed to use pytorch-lighting.\n",
        "\n",
        "    2) Try to write code more structurally and cleanly!\n",
        "    \n",
        "    3) Good logging of experiments save your nerves and time, so we ask you to use W&B. Log loss, FA/FR rate or something else.\n",
        "        Do not remove the logs until we have checked your work and given you a grade!\n",
        "    \n",
        "    4) (Bonus) We also ask you to organize your code in github repo with Docker and setup.py. You can use my template https://github.com/markovka17/dl-start-pack.\n",
        "    \n",
        "    5) Your work must be reproducable, so fix seed, save the weights of model, and etc.\n",
        "    \n",
        "    6) In the end of your work write inference utils. Anyone should be able to take your weight, load it into the model and run it on some audio track."
      ]
    }
  ]
}